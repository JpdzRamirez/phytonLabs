{
  "nbformat": 4,
  "nbformat_minor": 0,
  "metadata": {
    "colab": {
      "provenance": []
    },
    "kernelspec": {
      "name": "python3",
      "display_name": "Python 3"
    },
    "language_info": {
      "name": "python"
    },
    "widgets": {
      "application/vnd.jupyter.widget-state+json": {
        "2977d5a251fe44b7bddf60a6427b4dd9": {
          "model_module": "@jupyter-widgets/controls",
          "model_name": "FloatTextModel",
          "model_module_version": "1.5.0",
          "state": {
            "_dom_classes": [],
            "_model_module": "@jupyter-widgets/controls",
            "_model_module_version": "1.5.0",
            "_model_name": "FloatTextModel",
            "_view_count": null,
            "_view_module": "@jupyter-widgets/controls",
            "_view_module_version": "1.5.0",
            "_view_name": "FloatTextView",
            "continuous_update": false,
            "description": "S25 Tarea 01",
            "description_tooltip": null,
            "disabled": false,
            "layout": "IPY_MODEL_37dc71abde764b1aa9b5d2581fd6b532",
            "step": null,
            "style": "IPY_MODEL_e23591459a094d638a16f64da4c2eaab",
            "value": 3
          }
        },
        "37dc71abde764b1aa9b5d2581fd6b532": {
          "model_module": "@jupyter-widgets/base",
          "model_name": "LayoutModel",
          "model_module_version": "1.2.0",
          "state": {
            "_model_module": "@jupyter-widgets/base",
            "_model_module_version": "1.2.0",
            "_model_name": "LayoutModel",
            "_view_count": null,
            "_view_module": "@jupyter-widgets/base",
            "_view_module_version": "1.2.0",
            "_view_name": "LayoutView",
            "align_content": null,
            "align_items": null,
            "align_self": null,
            "border": null,
            "bottom": null,
            "display": null,
            "flex": null,
            "flex_flow": null,
            "grid_area": null,
            "grid_auto_columns": null,
            "grid_auto_flow": null,
            "grid_auto_rows": null,
            "grid_column": null,
            "grid_gap": null,
            "grid_row": null,
            "grid_template_areas": null,
            "grid_template_columns": null,
            "grid_template_rows": null,
            "height": null,
            "justify_content": null,
            "justify_items": null,
            "left": null,
            "margin": null,
            "max_height": null,
            "max_width": null,
            "min_height": null,
            "min_width": null,
            "object_fit": null,
            "object_position": null,
            "order": null,
            "overflow": null,
            "overflow_x": null,
            "overflow_y": null,
            "padding": null,
            "right": null,
            "top": null,
            "visibility": null,
            "width": null
          }
        },
        "e23591459a094d638a16f64da4c2eaab": {
          "model_module": "@jupyter-widgets/controls",
          "model_name": "DescriptionStyleModel",
          "model_module_version": "1.5.0",
          "state": {
            "_model_module": "@jupyter-widgets/controls",
            "_model_module_version": "1.5.0",
            "_model_name": "DescriptionStyleModel",
            "_view_count": null,
            "_view_module": "@jupyter-widgets/base",
            "_view_module_version": "1.2.0",
            "_view_name": "StyleView",
            "description_width": ""
          }
        },
        "182103417d5649b48d61326213d6c251": {
          "model_module": "@jupyter-widgets/controls",
          "model_name": "FloatTextModel",
          "model_module_version": "1.5.0",
          "state": {
            "_dom_classes": [],
            "_model_module": "@jupyter-widgets/controls",
            "_model_module_version": "1.5.0",
            "_model_name": "FloatTextModel",
            "_view_count": null,
            "_view_module": "@jupyter-widgets/controls",
            "_view_module_version": "1.5.0",
            "_view_name": "FloatTextView",
            "continuous_update": false,
            "description": "S25 Tarea 02",
            "description_tooltip": null,
            "disabled": false,
            "layout": "IPY_MODEL_c3c9e2a259354e118bba6b9fd8e20534",
            "step": null,
            "style": "IPY_MODEL_55cbb0cb4ac947dc8c8b73ba7435a4a3",
            "value": 3
          }
        },
        "c3c9e2a259354e118bba6b9fd8e20534": {
          "model_module": "@jupyter-widgets/base",
          "model_name": "LayoutModel",
          "model_module_version": "1.2.0",
          "state": {
            "_model_module": "@jupyter-widgets/base",
            "_model_module_version": "1.2.0",
            "_model_name": "LayoutModel",
            "_view_count": null,
            "_view_module": "@jupyter-widgets/base",
            "_view_module_version": "1.2.0",
            "_view_name": "LayoutView",
            "align_content": null,
            "align_items": null,
            "align_self": null,
            "border": null,
            "bottom": null,
            "display": null,
            "flex": null,
            "flex_flow": null,
            "grid_area": null,
            "grid_auto_columns": null,
            "grid_auto_flow": null,
            "grid_auto_rows": null,
            "grid_column": null,
            "grid_gap": null,
            "grid_row": null,
            "grid_template_areas": null,
            "grid_template_columns": null,
            "grid_template_rows": null,
            "height": null,
            "justify_content": null,
            "justify_items": null,
            "left": null,
            "margin": null,
            "max_height": null,
            "max_width": null,
            "min_height": null,
            "min_width": null,
            "object_fit": null,
            "object_position": null,
            "order": null,
            "overflow": null,
            "overflow_x": null,
            "overflow_y": null,
            "padding": null,
            "right": null,
            "top": null,
            "visibility": null,
            "width": null
          }
        },
        "55cbb0cb4ac947dc8c8b73ba7435a4a3": {
          "model_module": "@jupyter-widgets/controls",
          "model_name": "DescriptionStyleModel",
          "model_module_version": "1.5.0",
          "state": {
            "_model_module": "@jupyter-widgets/controls",
            "_model_module_version": "1.5.0",
            "_model_name": "DescriptionStyleModel",
            "_view_count": null,
            "_view_module": "@jupyter-widgets/base",
            "_view_module_version": "1.2.0",
            "_view_name": "StyleView",
            "description_width": ""
          }
        },
        "7000633c71b245afb7a84f9540de799f": {
          "model_module": "@jupyter-widgets/controls",
          "model_name": "FloatTextModel",
          "model_module_version": "1.5.0",
          "state": {
            "_dom_classes": [],
            "_model_module": "@jupyter-widgets/controls",
            "_model_module_version": "1.5.0",
            "_model_name": "FloatTextModel",
            "_view_count": null,
            "_view_module": "@jupyter-widgets/controls",
            "_view_module_version": "1.5.0",
            "_view_name": "FloatTextView",
            "continuous_update": false,
            "description": "S25 Tarea 03",
            "description_tooltip": null,
            "disabled": false,
            "layout": "IPY_MODEL_4c8310764aad48a89fe4e2e6df0beb24",
            "step": null,
            "style": "IPY_MODEL_73fe2abc65534a84a1330b0f502f51d6",
            "value": 3
          }
        },
        "4c8310764aad48a89fe4e2e6df0beb24": {
          "model_module": "@jupyter-widgets/base",
          "model_name": "LayoutModel",
          "model_module_version": "1.2.0",
          "state": {
            "_model_module": "@jupyter-widgets/base",
            "_model_module_version": "1.2.0",
            "_model_name": "LayoutModel",
            "_view_count": null,
            "_view_module": "@jupyter-widgets/base",
            "_view_module_version": "1.2.0",
            "_view_name": "LayoutView",
            "align_content": null,
            "align_items": null,
            "align_self": null,
            "border": null,
            "bottom": null,
            "display": null,
            "flex": null,
            "flex_flow": null,
            "grid_area": null,
            "grid_auto_columns": null,
            "grid_auto_flow": null,
            "grid_auto_rows": null,
            "grid_column": null,
            "grid_gap": null,
            "grid_row": null,
            "grid_template_areas": null,
            "grid_template_columns": null,
            "grid_template_rows": null,
            "height": null,
            "justify_content": null,
            "justify_items": null,
            "left": null,
            "margin": null,
            "max_height": null,
            "max_width": null,
            "min_height": null,
            "min_width": null,
            "object_fit": null,
            "object_position": null,
            "order": null,
            "overflow": null,
            "overflow_x": null,
            "overflow_y": null,
            "padding": null,
            "right": null,
            "top": null,
            "visibility": null,
            "width": null
          }
        },
        "73fe2abc65534a84a1330b0f502f51d6": {
          "model_module": "@jupyter-widgets/controls",
          "model_name": "DescriptionStyleModel",
          "model_module_version": "1.5.0",
          "state": {
            "_model_module": "@jupyter-widgets/controls",
            "_model_module_version": "1.5.0",
            "_model_name": "DescriptionStyleModel",
            "_view_count": null,
            "_view_module": "@jupyter-widgets/base",
            "_view_module_version": "1.2.0",
            "_view_name": "StyleView",
            "description_width": ""
          }
        },
        "fcef508d1ab54d4b9d230b94799745da": {
          "model_module": "@jupyter-widgets/controls",
          "model_name": "FloatTextModel",
          "model_module_version": "1.5.0",
          "state": {
            "_dom_classes": [],
            "_model_module": "@jupyter-widgets/controls",
            "_model_module_version": "1.5.0",
            "_model_name": "FloatTextModel",
            "_view_count": null,
            "_view_module": "@jupyter-widgets/controls",
            "_view_module_version": "1.5.0",
            "_view_name": "FloatTextView",
            "continuous_update": false,
            "description": "S25 Tarea 04",
            "description_tooltip": null,
            "disabled": false,
            "layout": "IPY_MODEL_4bd446cf3ed6468d9be9bfd1c2341194",
            "step": null,
            "style": "IPY_MODEL_5cdde00b5e4c4f34aa3959b3c0df8d47",
            "value": 4
          }
        },
        "4bd446cf3ed6468d9be9bfd1c2341194": {
          "model_module": "@jupyter-widgets/base",
          "model_name": "LayoutModel",
          "model_module_version": "1.2.0",
          "state": {
            "_model_module": "@jupyter-widgets/base",
            "_model_module_version": "1.2.0",
            "_model_name": "LayoutModel",
            "_view_count": null,
            "_view_module": "@jupyter-widgets/base",
            "_view_module_version": "1.2.0",
            "_view_name": "LayoutView",
            "align_content": null,
            "align_items": null,
            "align_self": null,
            "border": null,
            "bottom": null,
            "display": null,
            "flex": null,
            "flex_flow": null,
            "grid_area": null,
            "grid_auto_columns": null,
            "grid_auto_flow": null,
            "grid_auto_rows": null,
            "grid_column": null,
            "grid_gap": null,
            "grid_row": null,
            "grid_template_areas": null,
            "grid_template_columns": null,
            "grid_template_rows": null,
            "height": null,
            "justify_content": null,
            "justify_items": null,
            "left": null,
            "margin": null,
            "max_height": null,
            "max_width": null,
            "min_height": null,
            "min_width": null,
            "object_fit": null,
            "object_position": null,
            "order": null,
            "overflow": null,
            "overflow_x": null,
            "overflow_y": null,
            "padding": null,
            "right": null,
            "top": null,
            "visibility": null,
            "width": null
          }
        },
        "5cdde00b5e4c4f34aa3959b3c0df8d47": {
          "model_module": "@jupyter-widgets/controls",
          "model_name": "DescriptionStyleModel",
          "model_module_version": "1.5.0",
          "state": {
            "_model_module": "@jupyter-widgets/controls",
            "_model_module_version": "1.5.0",
            "_model_name": "DescriptionStyleModel",
            "_view_count": null,
            "_view_module": "@jupyter-widgets/base",
            "_view_module_version": "1.2.0",
            "_view_name": "StyleView",
            "description_width": ""
          }
        },
        "0704273f64ca4503ababb3f541b8d244": {
          "model_module": "@jupyter-widgets/controls",
          "model_name": "ButtonModel",
          "model_module_version": "1.5.0",
          "state": {
            "_dom_classes": [],
            "_model_module": "@jupyter-widgets/controls",
            "_model_module_version": "1.5.0",
            "_model_name": "ButtonModel",
            "_view_count": null,
            "_view_module": "@jupyter-widgets/controls",
            "_view_module_version": "1.5.0",
            "_view_name": "ButtonView",
            "button_style": "",
            "description": "Calcular calificación final",
            "disabled": false,
            "icon": "",
            "layout": "IPY_MODEL_c8b14f30ba7e4f28ae4ac1bfac8c384f",
            "style": "IPY_MODEL_5d3a46797fdc48f0a8e7e90c789165d5",
            "tooltip": ""
          }
        },
        "c8b14f30ba7e4f28ae4ac1bfac8c384f": {
          "model_module": "@jupyter-widgets/base",
          "model_name": "LayoutModel",
          "model_module_version": "1.2.0",
          "state": {
            "_model_module": "@jupyter-widgets/base",
            "_model_module_version": "1.2.0",
            "_model_name": "LayoutModel",
            "_view_count": null,
            "_view_module": "@jupyter-widgets/base",
            "_view_module_version": "1.2.0",
            "_view_name": "LayoutView",
            "align_content": null,
            "align_items": null,
            "align_self": null,
            "border": null,
            "bottom": null,
            "display": null,
            "flex": null,
            "flex_flow": null,
            "grid_area": null,
            "grid_auto_columns": null,
            "grid_auto_flow": null,
            "grid_auto_rows": null,
            "grid_column": null,
            "grid_gap": null,
            "grid_row": null,
            "grid_template_areas": null,
            "grid_template_columns": null,
            "grid_template_rows": null,
            "height": null,
            "justify_content": null,
            "justify_items": null,
            "left": null,
            "margin": null,
            "max_height": null,
            "max_width": null,
            "min_height": null,
            "min_width": null,
            "object_fit": null,
            "object_position": null,
            "order": null,
            "overflow": null,
            "overflow_x": null,
            "overflow_y": null,
            "padding": null,
            "right": null,
            "top": null,
            "visibility": null,
            "width": null
          }
        },
        "5d3a46797fdc48f0a8e7e90c789165d5": {
          "model_module": "@jupyter-widgets/controls",
          "model_name": "ButtonStyleModel",
          "model_module_version": "1.5.0",
          "state": {
            "_model_module": "@jupyter-widgets/controls",
            "_model_module_version": "1.5.0",
            "_model_name": "ButtonStyleModel",
            "_view_count": null,
            "_view_module": "@jupyter-widgets/base",
            "_view_module_version": "1.2.0",
            "_view_name": "StyleView",
            "button_color": null,
            "font_weight": ""
          }
        }
      }
    }
  },
  "cells": [
    {
      "cell_type": "markdown",
      "source": [
        "<div align=\"left\">\n",
        "<p><img alt=\"IUDigital\" height=\"140px\" src=\"https://iudigital.educatic.com.co/cas/images/logos/iudigital/logoLogin.png\" align=\"left\" hspace=\"10px\" vspace=\"0px\"></p></div>\n",
        "<div> </div>\n",
        "<div align=\"right\">\n",
        "<p><img alt=\"Posgrado\" height=\"140px\" src=\"https://www.iudigital.edu.co/images/Oferta%20Educativa/Tecnologia/TDSoftware/Banner%20Tecnologia%20en%20Desarrollode%20Software.png#joomlaImage://local-images/Oferta%20Educativa/Tecnologia/TDSoftware/Banner%20Tecnologia%20en%20Desarrollode%20Software.png\" align=\"right\" hspace=\"10px\" vspace=\"10px\"></p></div>\n",
        "<br></br>\n",
        "<br></br>\n",
        "<br></br>\n",
        "<br></br>\n",
        "<p>\n",
        "<h1> <b> Fundamentos de Programación </b> </h1>\n",
        "<h2> Ingeniería de Software y Datos  </h2>\n",
        "<hr size=10 noshade color=\"red\">\n",
        "</p>\n",
        "\n"
      ],
      "metadata": {
        "id": "VuipZbrNx6G9"
      }
    },
    {
      "cell_type": "markdown",
      "metadata": {
        "id": "Pm5smIuSNTUw"
      },
      "source": [
        "# **Tarea 1**\n",
        "\n",
        "> Temas: módulos, variables y tipos de datos.\n",
        "\n",
        "\n",
        "Al inicio de cada ejercicio se encuentra el porcentaje de ponderación con el cual se calculará la nota final de esta tarea."
      ]
    },
    {
      "cell_type": "markdown",
      "source": [
        "# (25%) Ejercicio 1\n",
        "Realice conversiones entre las unidades de medida presentadas en la siguiente tabla:\n",
        "\n",
        "| Índice | Conversión                           | Factor |\n",
        "|:------:|--------------------------------------|:------:|\n",
        "| 0      | Kilómetro a metro                    | 1000   |\n",
        "| 1      | Centímetro a metro                   | 0.01   |\n",
        "| 2      | Kilómetro por hora a millas por hora | 0.62   |\n",
        "| 3      | Nota en Educatic a nota en Canvas    | 20     |\n",
        "| 4      | Nota en Canvas a nota en Educatic    | 0.05   |\n",
        "| 5      | Mililitro a centímetro cúbico        | 1      |\n",
        "| 6      | Dólar (USA) a peso colombiano        |Actualizar|\n",
        "| 7      | Peso colombiano a dólar (USA)        |Actualizar|\n",
        "| 8      | Libra a kilogramo                    | 0.45   |\n",
        "| 9     | Minuto luz a kilómetro               | 17987539.67|\n",
        "\n",
        "Para este ejercicio se deben almacenar los factores de conversión en un vector (tipo de dato ```list``` de Python) para luego:\n",
        "\n",
        "- Solicitar al usuario el dato que quiere convertir para que lo ingrese por teclado.\n",
        "- Tranformar el dato tipo texto ```str``` en tipo numérico (```int``` o ```float``` según sea el caso).\n",
        "- Acceder al factor de conversión correspondiente de acuerdo a su posición o índice en el vector de factores de conversión.\n"
      ],
      "metadata": {
        "id": "VAc2IGB7p9Ct"
      }
    },
    {
      "cell_type": "code",
      "execution_count": 1,
      "metadata": {
        "id": "39VGcZwPxwFu",
        "colab": {
          "base_uri": "https://localhost:8080/"
        },
        "outputId": "b2a9a1ea-5a62-443e-fcfc-126a46794a2b"
      },
      "outputs": [
        {
          "output_type": "stream",
          "name": "stdout",
          "text": [
            "Bienvenido al ejercicio 1 de conversiones \n",
            " Ingrese por favor una opción, solo el número:\n",
            "1. Conversión Kilómetro a metro\n",
            "2. Conversión Centímetro a metro\n",
            "3. Conversión Kilómetro por hora a millas por hora\n",
            "4. Conversión Nota en Educatic a nota en Canvas\n",
            "5. Conversión Nota en Canvas a nota en Educatic\n",
            "6. Conversión Mililitro a centímetro cúbico\n",
            "7. Conversión Dólar (USA) a peso colombiano\n",
            "8. Conversión Peso colombiano a dólar (USA)\n",
            "9. Conversión Libra a kilogramo\n",
            "10. Conversión Minuto luz a kilómetro\n",
            "Ingresa un número entero: 8\n",
            "Ingresa el valor en pesos colombianos: 350000\n",
            "El resultado de su petición es: 350000.0 COP son 80.50 USD.\n",
            "¡Muchas gracias! <3\n"
          ]
        }
      ],
      "source": [
        "# Arreglo\n",
        "conversions = [\n",
        "    {\"Índice\": 0, \"Conversión\": \"Kilómetro a metro\", \"Factor\": 1000},\n",
        "    {\"Índice\": 1, \"Conversión\": \"Centímetro a metro\", \"Factor\": 0.01},\n",
        "    {\"Índice\": 2, \"Conversión\": \"Kilómetro por hora a millas por hora\", \"Factor\": 0.62},\n",
        "    {\"Índice\": 3, \"Conversión\": \"Nota en Educatic a nota en Canvas\", \"Factor\": 20},\n",
        "    {\"Índice\": 4, \"Conversión\": \"Nota en Canvas a nota en Educatic\", \"Factor\": 0.05},\n",
        "    {\"Índice\": 5, \"Conversión\": \"Mililitro a centímetro cúbico\", \"Factor\": 1},\n",
        "    {\"Índice\": 6, \"Conversión\": \"Dólar (USA) a peso colombiano\", \"Factor\": 4.418},\n",
        "    {\"Índice\": 7, \"Conversión\": \"Peso colombiano a dólar (USA)\", \"Factor\": 0.00023},\n",
        "    {\"Índice\": 8, \"Conversión\": \"Libra a kilogramo\", \"Factor\": 0.45},\n",
        "    {\"Índice\": 9, \"Conversión\": \"Minuto luz a kilómetro\", \"Factor\": 17987539.67},\n",
        "]\n",
        "\n",
        "# Funciones\n",
        "# 1. Kilómetro a metro\n",
        "def kilometro_metro(kilometros):\n",
        "    metros = (kilometros * conversions[0]['Factor'])\n",
        "    return metros\n",
        "\n",
        "# 2. Centímetro a metro\n",
        "def centimetro_metro(centimetros):\n",
        "    metros = (centimetros * conversions[1]['Factor'])\n",
        "    return metros\n",
        "\n",
        "# 3. Kilómetro por hora a millas por hora\n",
        "def kilometroHora_millasHora(kmH):\n",
        "    miH = (kmH * conversions[2]['Factor'])\n",
        "    return miH\n",
        "\n",
        "# 4. Nota en Educatic a nota en Canvas\n",
        "def notaEducatic_notaCanvas(notaEducatic):\n",
        "    notaCanvas = (notaEducatic * conversions[3]['Factor'])\n",
        "    return notaCanvas\n",
        "\n",
        "# 5. Nota en Canvas a nota en Educatic\n",
        "def notaCanvas_notaEducatic(notaCanvas):\n",
        "    notaEducatic = (notaCanvas * conversions[4]['Factor'])\n",
        "    return notaEducatic\n",
        "\n",
        "# 6. Mililitro a centímetro cúbico\n",
        "def mililitro_centimetroCubico(mililitro):\n",
        "    cmcubico = (mililitro * conversions[5]['Factor'])\n",
        "    return cmcubico\n",
        "\n",
        "# 7. Dólar (USA) a peso colombiano\n",
        "def dolar_peso(dolar):\n",
        "    peso = (dolar * conversions[6]['Factor'])\n",
        "    return peso\n",
        "\n",
        "# 8. Peso colombiano a dólar (USA)\n",
        "def peso_dolar(peso):\n",
        "    dolar = (peso * conversions[7]['Factor'])\n",
        "    return dolar\n",
        "\n",
        "# 9. Libra a kilogramo\n",
        "def libra_kilogramo(libra):\n",
        "    kilogramo = (libra * conversions[8]['Factor'])\n",
        "    return kilogramo\n",
        "\n",
        "# 10. Minuto luz a kilómetro\n",
        "def minutosLuz_kilometro(minutrosLuz):\n",
        "    km = (minutrosLuz * conversions[9]['Factor'])\n",
        "    return km\n",
        "\n",
        "# MENÚ\n",
        "def menu(value):\n",
        "    match value:\n",
        "        case 1:\n",
        "            kilometros = float(input(\"Ingresa los Kilómetros: \"))\n",
        "            resultado = kilometro_metro(kilometros)\n",
        "            response = f\"{kilometros} km son {resultado:.2f} mts.\"\n",
        "            return response\n",
        "        case 2:\n",
        "            centimetros = float(input(\"Ingresa los Centímetros: \"))\n",
        "            resultado = centimetro_metro(centimetros)\n",
        "            response = f\"{centimetros} cm son {resultado:.2f} mts.\"\n",
        "            return response\n",
        "        case 3:\n",
        "            kmH = float(input(\"Ingresa los KmH: \"))\n",
        "            resultado = kilometroHora_millasHora(kmH)\n",
        "            response = f\"{kmH} KmH son {resultado:.2f} Millas/Hora.\"\n",
        "            return response\n",
        "        case 4:\n",
        "            notaEducatic = float(input(\"Ingresa la nota Educatic: \"))\n",
        "            resultado = notaEducatic_notaCanvas(notaEducatic)\n",
        "            response = f\"Nota Educatic: {notaEducatic}, Nota Canvas: {resultado:.2f}.\"\n",
        "            return response\n",
        "        case 5:\n",
        "            notaCanvas = float(input(\"Ingresa la nota Canvas: \"))\n",
        "            resultado = notaCanvas_notaEducatic(notaCanvas)\n",
        "            response = f\"Nota Canvas: {notaCanvas}, Nota Educatic: {resultado:.2f}.\"\n",
        "            return response\n",
        "        case 6:\n",
        "            mililitro = float(input(\"Ingresa el mililitro: \"))\n",
        "            resultado = mililitro_centimetroCubico(mililitro)\n",
        "            response = f\"{mililitro} ml son {resultado:.2f} cm³.\"\n",
        "            return response\n",
        "        case 7:\n",
        "            dolar = float(input(\"Ingresa el valor en dólares: \"))\n",
        "            resultado = dolar_peso(dolar)\n",
        "            response = f\"{dolar:.2f} USD son {resultado:.2f} COP.\"\n",
        "            return response\n",
        "        case 8:\n",
        "            pesos = float(input(\"Ingresa el valor en pesos colombianos: \"))\n",
        "            resultado = peso_dolar(pesos)\n",
        "            response = f\"{pesos} COP son {resultado:.2f} USD.\"\n",
        "            return response\n",
        "        case 9:\n",
        "            libras = float(input(\"Ingresa las libras: \"))\n",
        "            resultado = libra_kilogramo(libras)\n",
        "            response = f\"{libras} lb son {resultado:.2f} kg.\"\n",
        "            return response\n",
        "        case 10:\n",
        "            minutrosLuz = float(input(\"Ingresa los minutos luz: \"))\n",
        "            resultado = minutosLuz_kilometro(minutrosLuz)\n",
        "            response = f\"{minutrosLuz} minLuz son {resultado:.2f} km.\"\n",
        "            return response\n",
        "        case _:\n",
        "            return \"Opción no válida\"\n",
        "\n",
        "# Print Area\n",
        "print(\"Bienvenido al ejercicio 1 de conversiones\")\n",
        "index = 1\n",
        "for conversion in conversions:\n",
        "    print(f\"{index}. Conversión {conversion['Conversión']}\")\n",
        "    index += 1\n",
        "\n",
        "seleccion = int(input(\"Ingrese por favor una opción, solo el número:\"))\n",
        "consulta = menu(seleccion)\n",
        "print(f\"El resultado de su petición es: {consulta}\")\n",
        "print(\"¡Muchas gracias! <3\")\n"
      ]
    },
    {
      "cell_type": "markdown",
      "source": [
        "# (25%) Ejercicio 2\n",
        "\n",
        "La distancia entre dos puntos en un plano se calcula con la siguiente fórmula:\n",
        "\n",
        "> $d(P_1, P_2)=\\sqrt{{(x_2-x_1)}^2+{(y_2-y_1)}^2}$\n",
        "\n",
        "Donde las coordenadas *x* y *y* indican la posición en la que se encuentra cada punto *P*.\n",
        "\n",
        "Realiza un algoritmo que permita al usuario ingresar los cuatro valores de las coordenadas en orden (debes indicarle cuál coordenada está ingresando) y calcular la distancia *d*.\n",
        "\n",
        "El resultado debe presentar dos cifras decimales y separador de miles.\n",
        "\n",
        "Además, para el presente ejercicio necesitas importar la librería matemática ```math``` y usar sus componentes de potenciación y radicación."
      ],
      "metadata": {
        "id": "mi45B0b5iwae"
      }
    },
    {
      "cell_type": "code",
      "source": [
        "#Librerías\n",
        "import math\n",
        "#Función\n",
        "def distancia(x1,y1,x2,y2):\n",
        "    distancia = math.sqrt(pow((x2-x1),2)+pow((y2-y1),2))\n",
        "    return distancia\n",
        "#Menu\n",
        "def menu(value):\n",
        "    match value:\n",
        "        case 1:\n",
        "            x1 = float(input(\"Ingresa la coordenada X1: \"))\n",
        "            y1 = float(input(\"Ingresa la coordenada Y1: \"))\n",
        "            x2 = float(input(\"Ingresa la coordenada X2: \"))\n",
        "            y2 = float(input(\"Ingresa la coordenada Y2: \"))\n",
        "            resultado = distancia(x1,y1,x2,y2)\n",
        "            response = f\"Distancia entre las P1:({int(x1)},{int(y1)}) y P2({int(x2)},{int(y2)}) es: {resultado:,.2f}.\"\n",
        "            return response\n",
        "        case _:\n",
        "            return \"Opción no válida\"\n",
        "\n",
        "# Print Area\n",
        "print(\"Bienvenido al ejercicio 2 de calculos \")\n",
        "print(\"1. Calcular Distancia entre dos puntos\")\n",
        "seleccion = int(input(\"Ingrese por favor una opción, solo el número: \"))\n",
        "consulta = menu(seleccion)\n",
        "print(f\"El resultado de su petición es: {consulta}\")\n",
        "print(\"¡Muchas gracias! <3\")"
      ],
      "metadata": {
        "id": "3erjmX-fqEAV",
        "colab": {
          "base_uri": "https://localhost:8080/"
        },
        "outputId": "46b5b904-5960-41e1-e7a6-a206ef6fe449"
      },
      "execution_count": 2,
      "outputs": [
        {
          "output_type": "stream",
          "name": "stdout",
          "text": [
            "Bienvenido al ejercicio 1 de conversiones \n",
            "1. Calcular Distancia entre dos puntos\n",
            "Ingrese por favor una opción, solo el número: 1\n",
            "Ingresa la coordenada X1: 4\n",
            "Ingresa la coordenada Y1: 5\n",
            "Ingresa la coordenada X2: 3\n",
            "Ingresa la coordenada Y2: 9\n",
            "El resultado de su petición es: Distancia entre las P1:(4,5) y P2(3,9) es: 4.12.\n",
            "¡Muchas gracias! <3\n"
          ]
        }
      ]
    },
    {
      "cell_type": "markdown",
      "source": [
        "# (25%) Ejercicio 3\n",
        "\n",
        "Crear 3 variables de texto con al menos 50 caracteres cada una\n",
        "*   Realizar 5 tipos de slicing ascendentes diferentes sobre las variables creadas.\n",
        "*   Realizar 5 tipos de slicing descendente diferentes sobre las variables creadas."
      ],
      "metadata": {
        "id": "hFOvrnHwqDJE"
      }
    },
    {
      "cell_type": "code",
      "source": [
        "# Creando variables de texto\n",
        "texto1 = \"Lorem Ipsum es simplemente el texto de relleno de las imprentas y archivos de texto. Lorem Ipsum ha sido el texto de relleno estándar de las industrias desde el año 1500.\"\n",
        "texto2 = \"Es un hecho establecido hace demasiado tiempo que un lector se distraerá con el contenido del texto de un sitio mientras que mira su diseño.\"\n",
        "texto3 = \"Lorem Ipsum va a dar por resultado muchos sitios web que usan este texto si se encuentran en estado de desarrollo\"\n",
        "\n",
        "# Slicing Ascendente\n",
        "slicing_ascendente_1 = texto1[0:10]\n",
        "slicing_ascendente_2 = texto2[11:23]\n",
        "slicing_ascendente_3 = texto3[0:25]\n",
        "slicing_ascendente_4 = texto1[20:40]\n",
        "slicing_ascendente_5 = texto2[0:6]\n",
        "\n",
        "# Slicing Descendente\n",
        "slicing_descendente_1 = texto1[-11:]\n",
        "slicing_descendente_2 = texto2[-25:-15]\n",
        "slicing_descendente_3 = texto3[-25:]\n",
        "slicing_descendente_4 = texto1[-40:-20]\n",
        "slicing_descendente_5 = texto2[::-1]\n",
        "\n",
        "# Imprimir resultados\n",
        "print(\"Slicing Ascendente:\")\n",
        "print(slicing_ascendente_1)\n",
        "print(slicing_ascendente_2)\n",
        "print(slicing_ascendente_3)\n",
        "print(slicing_ascendente_4)\n",
        "print(slicing_ascendente_5)\n",
        "\n",
        "print(\"\\nSlicing Descendente:\")\n",
        "print(slicing_descendente_1)\n",
        "print(slicing_descendente_2)\n",
        "print(slicing_descendente_3)\n",
        "print(slicing_descendente_4)\n",
        "print(slicing_descendente_5)"
      ],
      "metadata": {
        "id": "bikcMxf11nGZ",
        "colab": {
          "base_uri": "https://localhost:8080/"
        },
        "outputId": "5bdf70e2-0fe8-40d1-a427-34b8f5ba12b3"
      },
      "execution_count": 3,
      "outputs": [
        {
          "output_type": "stream",
          "name": "stdout",
          "text": [
            "Slicing Ascendente:\n",
            "Lorem Ipsu\n",
            " establecido\n",
            "Lorem Ipsum va a dar por \n",
            "emente el texto de r\n",
            "Es un \n",
            "\n",
            "Slicing Descendente:\n",
            "l año 1500.\n",
            "ntras que \n",
            "n en estado de desarrollo\n",
            "dar de las industria\n",
            ".oñesid us arim euq sartneim oitis nu ed otxet led odinetnoc le noc áreartsid es rotcel nu euq opmeit odaisamed ecah odicelbatse ohceh nu sE\n"
          ]
        }
      ]
    },
    {
      "cell_type": "markdown",
      "source": [
        "# (25%) Ejercicio 4\n",
        "\n",
        "Al final del bloque completaremos un programa que permita calcular la calificación final de un curso de acuerdo al porcentaje de ponderación y la calificación obtenida en cada tarea.\n",
        "\n",
        "En este ejercicio debes usar [formularios](https://www.youtube.com/watch?v=vx7yOZ5_Cw8) si trabajas en Google Colab o la función ```input``` si trabajas en otro editor, para solicitar al usuario la calificación obtenida en cada una de las 4 tareas descritas en la tabla, y con esa información debes calcular la calificación final.\n",
        "\n",
        "\n",
        "| Nombre actividad                        | Porcentaje  |\n",
        "|-----------------------------------------|:-----------:|\n",
        "| S25 - Actividad de aprendizaje Tarea 01 |     25%     |\n",
        "| S25 - Actividad de aprendizaje Tarea 02 |     25%     |\n",
        "| S25 - Actividad de aprendizaje Tarea 03 |     25%     |\n",
        "| S25 - Actividad de aprendizaje Tarea 04 |     25%     |\n"
      ],
      "metadata": {
        "id": "PEjrEfjSjJh-"
      }
    },
    {
      "cell_type": "code",
      "source": [
        "# Librerías\n",
        "from IPython.display import display\n",
        "import ipywidgets as widgets\n",
        "\n",
        "# Arreglos de porcentajes e inputs\n",
        "actividades = [\n",
        "    {\"Nombre actividad\": \"S25 Tarea 01\", \"Porcentaje\": 0.25},\n",
        "    {\"Nombre actividad\": \"S25 Tarea 02\", \"Porcentaje\": 0.25},\n",
        "    {\"Nombre actividad\": \"S25 Tarea 03\", \"Porcentaje\": 0.25},\n",
        "    {\"Nombre actividad\": \"S25 Tarea 04\", \"Porcentaje\": 0.25}\n",
        "]\n",
        "calificaciones_widgets = []\n",
        "\n",
        "# Crear cada entrada de calificaciones para cada actividad\n",
        "for actividad in actividades:\n",
        "  #Instanciamos el objeto\n",
        "    widget = widgets.FloatText(description=actividad[\"Nombre actividad\"], value=0.0)\n",
        "    calificaciones_widgets.append({\n",
        "        \"widget\": widget,\n",
        "        \"porcentaje\": actividad[\"Porcentaje\"]\n",
        "        })\n",
        "    #Mostramos elemento\n",
        "    display(widget)\n",
        "\n",
        "# Botón para calcular la calificación final\n",
        "boton_calcular = widgets.Button(description=\"Calcular calificación final\")\n",
        "display(boton_calcular)\n",
        "\n",
        "# Funciónes\n",
        "def calcular_calificacion(b):\n",
        "    calificacionFinal=0\n",
        "    for calificacion in calificaciones_widgets:\n",
        "        calificacionFinal= calificacionFinal + calificacion[\"widget\"].value * calificacion[\"porcentaje\"]\n",
        "\n",
        "    print(f\"\\nLa calificación final del curso es: {calificacionFinal:.2f}\")\n",
        "\n",
        "# Boton que llama a la función\n",
        "boton_calcular.on_click(calcular_calificacion)\n"
      ],
      "metadata": {
        "id": "5cMsOa37p2sd",
        "colab": {
          "base_uri": "https://localhost:8080/",
          "height": 240,
          "referenced_widgets": [
            "2977d5a251fe44b7bddf60a6427b4dd9",
            "37dc71abde764b1aa9b5d2581fd6b532",
            "e23591459a094d638a16f64da4c2eaab",
            "182103417d5649b48d61326213d6c251",
            "c3c9e2a259354e118bba6b9fd8e20534",
            "55cbb0cb4ac947dc8c8b73ba7435a4a3",
            "7000633c71b245afb7a84f9540de799f",
            "4c8310764aad48a89fe4e2e6df0beb24",
            "73fe2abc65534a84a1330b0f502f51d6",
            "fcef508d1ab54d4b9d230b94799745da",
            "4bd446cf3ed6468d9be9bfd1c2341194",
            "5cdde00b5e4c4f34aa3959b3c0df8d47",
            "0704273f64ca4503ababb3f541b8d244",
            "c8b14f30ba7e4f28ae4ac1bfac8c384f",
            "5d3a46797fdc48f0a8e7e90c789165d5"
          ]
        },
        "outputId": "0ae1fc2e-d02c-462d-917f-e50252b11cc5"
      },
      "execution_count": 10,
      "outputs": [
        {
          "output_type": "display_data",
          "data": {
            "text/plain": [
              "FloatText(value=0.0, description='S25 Tarea 01')"
            ],
            "application/vnd.jupyter.widget-view+json": {
              "version_major": 2,
              "version_minor": 0,
              "model_id": "2977d5a251fe44b7bddf60a6427b4dd9"
            }
          },
          "metadata": {}
        },
        {
          "output_type": "display_data",
          "data": {
            "text/plain": [
              "FloatText(value=0.0, description='S25 Tarea 02')"
            ],
            "application/vnd.jupyter.widget-view+json": {
              "version_major": 2,
              "version_minor": 0,
              "model_id": "182103417d5649b48d61326213d6c251"
            }
          },
          "metadata": {}
        },
        {
          "output_type": "display_data",
          "data": {
            "text/plain": [
              "FloatText(value=0.0, description='S25 Tarea 03')"
            ],
            "application/vnd.jupyter.widget-view+json": {
              "version_major": 2,
              "version_minor": 0,
              "model_id": "7000633c71b245afb7a84f9540de799f"
            }
          },
          "metadata": {}
        },
        {
          "output_type": "display_data",
          "data": {
            "text/plain": [
              "FloatText(value=0.0, description='S25 Tarea 04')"
            ],
            "application/vnd.jupyter.widget-view+json": {
              "version_major": 2,
              "version_minor": 0,
              "model_id": "fcef508d1ab54d4b9d230b94799745da"
            }
          },
          "metadata": {}
        },
        {
          "output_type": "display_data",
          "data": {
            "text/plain": [
              "Button(description='Calcular calificación final', style=ButtonStyle())"
            ],
            "application/vnd.jupyter.widget-view+json": {
              "version_major": 2,
              "version_minor": 0,
              "model_id": "0704273f64ca4503ababb3f541b8d244"
            }
          },
          "metadata": {}
        },
        {
          "output_type": "stream",
          "name": "stdout",
          "text": [
            "\n",
            "La calificación final del curso es: 2.50\n",
            "\n",
            "La calificación final del curso es: 3.25\n"
          ]
        }
      ]
    },
    {
      "cell_type": "code",
      "source": [],
      "metadata": {
        "id": "Dom0eGtl57xr"
      },
      "execution_count": null,
      "outputs": []
    }
  ]
}